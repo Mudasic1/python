{
 "cells": [
  {
   "cell_type": "markdown",
   "metadata": {},
   "source": [
    "# Numbers\n",
    "* in python we use numbers to get numeric value\n",
    "* in this chapter we'll cover float, integer, complex "
   ]
  },
  {
   "cell_type": "code",
   "execution_count": null,
   "metadata": {},
   "outputs": [
    {
     "name": "stdout",
     "output_type": "stream",
     "text": [
      "5\n",
      "<class 'int'>\n",
      "5.33\n",
      "<class 'float'>\n",
      "4j\n",
      "<class 'complex'>\n"
     ]
    }
   ],
   "source": [
    "a = 5\n",
    "print(a)\n",
    "print(type(a))  # integer\n",
    "\n",
    "b = 5.33\n",
    "print(b)\n",
    "print(type(b)) # float\n",
    "\n",
    "c = 4j\n",
    "print(c)\n",
    "print(type(c)) # complex\n"
   ]
  },
  {
   "cell_type": "markdown",
   "metadata": {},
   "source": [
    "# let's perform mathematical operations"
   ]
  },
  {
   "cell_type": "code",
   "execution_count": 7,
   "metadata": {},
   "outputs": [
    {
     "name": "stdout",
     "output_type": "stream",
     "text": [
      "15\n",
      "5\n",
      "50\n",
      "2.0\n",
      "100000\n"
     ]
    }
   ],
   "source": [
    "myNum1 = 10\n",
    "myNum2  = 5\n",
    "print(myNum1+myNum2) # Addition\n",
    "print(myNum1-myNum2) # subtraction\n",
    "print(myNum1*myNum2) # multiplication\n",
    "print(myNum1/myNum2) # division\n",
    "print(myNum1**myNum2) # exponent value"
   ]
  },
  {
   "cell_type": "markdown",
   "metadata": {},
   "source": [
    "# Floats\n",
    "* Python calls any number with a decimal point a float. This term is used\n",
    "in most programming languages, and it refers to the fact that a decimal\n",
    "point can appear at any position in a number. Every programming language must be carefully designed to properly manage decimal numbers\n",
    "so numbers behave appropriately no matter where the decimal point\n",
    "appears."
   ]
  },
  {
   "cell_type": "code",
   "execution_count": 8,
   "metadata": {},
   "outputs": [
    {
     "name": "stdout",
     "output_type": "stream",
     "text": [
      "4.6\n"
     ]
    }
   ],
   "source": [
    "float1 = 2.5\n",
    "float2 = 2.1\n",
    "print(float1+float2)"
   ]
  },
  {
   "cell_type": "markdown",
   "metadata": {},
   "source": [
    "* When you’re writing long numbers, you can group digits using underscores\n",
    "to make large numbers more readable:\n",
    "* Python ignores the underscores when storing these kinds of values. Even\n",
    "if you don’t group the digits in threes, the value will still be unaffected."
   ]
  },
  {
   "cell_type": "code",
   "execution_count": 9,
   "metadata": {},
   "outputs": [
    {
     "name": "stdout",
     "output_type": "stream",
     "text": [
      "1400000000000000000\n"
     ]
    }
   ],
   "source": [
    "fav_num = 14_000_00000_00000_0000\n",
    "print(fav_num)"
   ]
  },
  {
   "cell_type": "markdown",
   "metadata": {},
   "source": [
    "# Multiple Assignment\n",
    "* assign values to more than one variable using just a single line.\n",
    "This can help shorten your programs and make them easier to read"
   ]
  },
  {
   "cell_type": "code",
   "execution_count": 3,
   "metadata": {},
   "outputs": [
    {
     "name": "stdout",
     "output_type": "stream",
     "text": [
      "4 5 6\n"
     ]
    }
   ],
   "source": [
    "x,y,z = 4,5,6\n",
    "print(x,y,z)"
   ]
  },
  {
   "cell_type": "markdown",
   "metadata": {},
   "source": [
    "# Constants\n",
    "* A constant is like a variable whose value stays the same throughout the life\n",
    "of a program. Python doesn’t have built-in constant types, but Python programmers use all capital letters to indicate a variable should be treated as a\n",
    "constant and never be changed:\n"
   ]
  },
  {
   "cell_type": "code",
   "execution_count": 8,
   "metadata": {},
   "outputs": [
    {
     "name": "stdout",
     "output_type": "stream",
     "text": [
      "6\n"
     ]
    }
   ],
   "source": [
    "MYNUM = 6 # constant\n",
    "\n",
    "print(MYNUM)\n"
   ]
  }
 ],
 "metadata": {
  "kernelspec": {
   "display_name": "Python 3",
   "language": "python",
   "name": "python3"
  },
  "language_info": {
   "codemirror_mode": {
    "name": "ipython",
    "version": 3
   },
   "file_extension": ".py",
   "mimetype": "text/x-python",
   "name": "python",
   "nbconvert_exporter": "python",
   "pygments_lexer": "ipython3",
   "version": "3.13.2"
  }
 },
 "nbformat": 4,
 "nbformat_minor": 2
}
