{
 "cells": [
  {
   "cell_type": "markdown",
   "metadata": {},
   "source": [
    "# lists and methods"
   ]
  },
  {
   "cell_type": "code",
   "execution_count": null,
   "metadata": {},
   "outputs": [
    {
     "name": "stdout",
     "output_type": "stream",
     "text": [
      "['Ahmed', 'Emad', 'Hassan']\n",
      "['Ahmed', 'Emad', 'Hassan', 'Imran']\n",
      "['Ahmed', 'Emad', 'Daniyal', 'Hassan', 'Imran']\n"
     ]
    }
   ],
   "source": [
    "# make a list of guests\n",
    "guests  = [\"Ahmed\", \"Emad\", \"Hassan\"]\n",
    "print(guests)\n",
    "\n",
    "# add a new guest in the list\n",
    "guests.append(\"Imran\")\n",
    "print(guests)\n",
    "\n",
    "# add a new guest at index 2\n",
    "\n",
    "guests.insert(2, \"Daniyal\")\n",
    "print(guests)\n",
    "\n",
    "\n"
   ]
  }
 ],
 "metadata": {
  "kernelspec": {
   "display_name": "Python 3",
   "language": "python",
   "name": "python3"
  },
  "language_info": {
   "codemirror_mode": {
    "name": "ipython",
    "version": 3
   },
   "file_extension": ".py",
   "mimetype": "text/x-python",
   "name": "python",
   "nbconvert_exporter": "python",
   "pygments_lexer": "ipython3",
   "version": "3.13.2"
  }
 },
 "nbformat": 4,
 "nbformat_minor": 2
}
