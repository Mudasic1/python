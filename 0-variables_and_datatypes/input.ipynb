{
 "cells": [
  {
   "cell_type": "markdown",
   "metadata": {},
   "source": [
    "# Input function Exercise: \n",
    "* make calculator using input() function"
   ]
  },
  {
   "cell_type": "code",
   "execution_count": 3,
   "metadata": {},
   "outputs": [
    {
     "name": "stdout",
     "output_type": "stream",
     "text": [
      "12\n"
     ]
    }
   ],
   "source": [
    "num1 = int(input(\"Enter your first number: \"))\n",
    "num2 = int(input(\"Enter your second number: \"))\n",
    "operation = input(\"Enter your operation: \")\n",
    "if (operation == \"+\"):\n",
    "    print(num1+num2)\n",
    "elif(operation == \"-\"):\n",
    "    print(num1-num2)\n",
    "elif(operation == \"x\"):\n",
    "    print(num1*num2)\n",
    "elif(operation == \"/\"):\n",
    "    print(num1/num2)\n",
    "else:\n",
    "    print(\"something went wrong!\")"
   ]
  }
 ],
 "metadata": {
  "kernelspec": {
   "display_name": "Python 3",
   "language": "python",
   "name": "python3"
  },
  "language_info": {
   "codemirror_mode": {
    "name": "ipython",
    "version": 3
   },
   "file_extension": ".py",
   "mimetype": "text/x-python",
   "name": "python",
   "nbconvert_exporter": "python",
   "pygments_lexer": "ipython3",
   "version": "3.13.2"
  }
 },
 "nbformat": 4,
 "nbformat_minor": 2
}
