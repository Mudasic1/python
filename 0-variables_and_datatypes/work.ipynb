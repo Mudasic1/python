{
 "cells": [
  {
   "cell_type": "markdown",
   "metadata": {},
   "source": [
    "# variables and data types:"
   ]
  },
  {
   "cell_type": "code",
   "execution_count": 6,
   "metadata": {},
   "outputs": [
    {
     "name": "stdout",
     "output_type": "stream",
     "text": [
      "Mudasir\n",
      "<class 'str'>\n",
      "5\n",
      "<class 'int'>\n",
      "True\n",
      "<class 'bool'>\n",
      "34.5\n",
      "<class 'float'>\n",
      "3j\n",
      "<class 'complex'>\n"
     ]
    }
   ],
   "source": [
    "# String\n",
    "myName = \"Mudasir\"\n",
    "print(myName)\n",
    "print(type(myName)) # type casting\n",
    "\n",
    "# Number\n",
    "myNum = 5\n",
    "print(myNum)\n",
    "print(type(myNum))\n",
    "\n",
    "\n",
    "# boolean\n",
    "mybool = True\n",
    "print(mybool)\n",
    "print(type(mybool))\n",
    "\n",
    "# float\n",
    "\n",
    "myfloat = 34.5\n",
    "print(myfloat)\n",
    "print(type(myfloat))\n",
    "\n",
    "# complex\n",
    "myComp = 3j\n",
    "print(myComp)\n",
    "print(type(myComp))"
   ]
  }
 ],
 "metadata": {
  "kernelspec": {
   "display_name": "Python 3",
   "language": "python",
   "name": "python3"
  },
  "language_info": {
   "codemirror_mode": {
    "name": "ipython",
    "version": 3
   },
   "file_extension": ".py",
   "mimetype": "text/x-python",
   "name": "python",
   "nbconvert_exporter": "python",
   "pygments_lexer": "ipython3",
   "version": "3.13.2"
  }
 },
 "nbformat": 4,
 "nbformat_minor": 2
}
