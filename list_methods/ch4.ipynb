{
 "cells": [
  {
   "cell_type": "code",
   "execution_count": null,
   "metadata": {},
   "outputs": [
    {
     "name": "stdout",
     "output_type": "stream",
     "text": [
      "Divine\n",
      "fuck you Divine\n",
      "Talha\n",
      "fuck you Talha\n",
      "Naezy\n",
      "fuck you Naezy\n"
     ]
    }
   ],
   "source": [
    "# print magicians each name line by line\n",
    "magicians = [\"Divine\", \"Talha\", \"Naezy\"]\n",
    "for magician in magicians:\n",
    "    print(magician)\n",
    "    "
   ]
  }
 ],
 "metadata": {
  "kernelspec": {
   "display_name": "Python 3",
   "language": "python",
   "name": "python3"
  },
  "language_info": {
   "codemirror_mode": {
    "name": "ipython",
    "version": 3
   },
   "file_extension": ".py",
   "mimetype": "text/x-python",
   "name": "python",
   "nbconvert_exporter": "python",
   "pygments_lexer": "ipython3",
   "version": "3.13.2"
  }
 },
 "nbformat": 4,
 "nbformat_minor": 2
}
